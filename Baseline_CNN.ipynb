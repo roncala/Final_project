{
  "cells": [
    {
      "cell_type": "markdown",
      "metadata": {
        "id": "view-in-github",
        "colab_type": "text"
      },
      "source": [
        "<a href=\"https://colab.research.google.com/github/roncala/Final_project/blob/main/Baseline_CNN.ipynb\" target=\"_parent\"><img src=\"https://colab.research.google.com/assets/colab-badge.svg\" alt=\"Open In Colab\"/></a>"
      ]
    },
    {
      "cell_type": "code",
      "source": [
        "import os, random, shutil\n",
        "import matplotlib.pyplot as plt\n",
        "from collections import Counter\n",
        "from torchvision import transforms\n",
        "from torchvision.datasets import ImageFolder\n",
        "from torchvision.utils import make_grid\n",
        "from torch.utils.data import Subset, DataLoader\n",
        "import numpy as np\n",
        "import torch\n",
        "from torch.utils.data import WeightedRandomSampler, DataLoader\n",
        "\n",
        "# 1) Paths\n",
        "from google.colab import drive\n",
        "drive.mount('/content/drive')\n",
        "\n",
        "# 1) Base path in your Drive\n",
        "base_dir   = \"/content/drive/MyDrive/Dataset/archive\"\n",
        "orig_train  = os.path.join(base_dir, \"train\")\n",
        "orig_test   = os.path.join(base_dir, \"test\")\n",
        "\n",
        "#Stage 10% sample on the VM\n",
        "sample_ratio = 0.1\n",
        "tmp_root=\"/content/tmp/fer2013_sample\"\n",
        "tmp_train = os.path.join(tmp_root, \"train\")\n",
        "tmp_test = os.path.join(tmp_root, \"test\")\n",
        "\n",
        "if os.path.exists(tmp_root):\n",
        "    shutil.rmtree(tmp_root)\n",
        "\n",
        "#Copy 10% of each class-subfolder into tmp\n",
        "for src_dir, dst_dir in [(orig_train, tmp_train), (orig_test, tmp_test)]:\n",
        "  os.makedirs(dst_dir, exist_ok=True)\n",
        "  for label in os.listdir(src_dir):\n",
        "    src_label = os.path.join(src_dir, label)\n",
        "    if not os.path.isdir(src_label):\n",
        "      continue\n",
        "    dst_label = os.path.join(dst_dir, label)\n",
        "    os.makedirs(dst_label, exist_ok=True)\n",
        "\n",
        "    all_files = [f for f in os.listdir(src_label) if os.path.isfile(os.path.join(src_label, f))]\n",
        "    k = max(1, int(len(all_files) * sample_ratio))\n",
        "    sample_files = random.sample(all_files, k)\n",
        "\n",
        "    for fname in sample_files:\n",
        "      shutil.copy(os.path.join(src_label, fname), os.path.join(dst_label, fname))\n",
        "\n",
        "  print(f\"Copied 10% of '{src_dir}' -> '{dst_dir}'\" )"
      ],
      "metadata": {
        "colab": {
          "base_uri": "https://localhost:8080/"
        },
        "id": "mTyBspdIQctz",
        "outputId": "6fc585ce-70f4-495f-b424-45c87fc7ae52"
      },
      "execution_count": 8,
      "outputs": [
        {
          "output_type": "stream",
          "name": "stdout",
          "text": [
            "Drive already mounted at /content/drive; to attempt to forcibly remount, call drive.mount(\"/content/drive\", force_remount=True).\n",
            "Copied 10% of '/content/drive/MyDrive/Dataset/archive/train' -> '/content/tmp/fer2013_sample/train'\n",
            "Copied 10% of '/content/drive/MyDrive/Dataset/archive/test' -> '/content/tmp/fer2013_sample/test'\n"
          ]
        }
      ]
    },
    {
      "cell_type": "code",
      "source": [
        "import os, random, shutil\n",
        "import matplotlib.pyplot as plt\n",
        "from collections import Counter\n",
        "from torchvision import transforms\n",
        "from torchvision.datasets import ImageFolder\n",
        "from torchvision.utils import make_grid\n",
        "from torch.utils.data import Subset, DataLoader\n",
        "import numpy as np\n",
        "import torch\n",
        "from torch.utils.data import WeightedRandomSampler, DataLoader\n",
        "\n",
        "\n",
        "transform = transforms.Compose([\n",
        "    transforms.Grayscale(num_output_channels=1),  # ensure single-channel\n",
        "    transforms.ToTensor(),                        # PIL→[0,1] FloatTensor C×H×W\n",
        "])\n",
        "\n",
        "train_dataset = ImageFolder(tmp_train, transform=transform)\n",
        "test_dataset  = ImageFolder(tmp_test, transform=transform)\n",
        "\n",
        "train_loader = DataLoader(train_dataset, batch_size=32, shuffle=True, num_workers=2)\n",
        "test_loader  = DataLoader(test_dataset,  batch_size=32, shuffle=False, num_workers=2)\n",
        "\n",
        "print(f\"Loaded {len(train_dataset)} train images\")\n",
        "print(f\"Loaded {len(test_dataset)}  test images\")"
      ],
      "metadata": {
        "colab": {
          "base_uri": "https://localhost:8080/"
        },
        "id": "aoa0HgXPUH3N",
        "outputId": "613fc5f5-3308-459f-beb9-b0c5b95c98ce"
      },
      "execution_count": 9,
      "outputs": [
        {
          "output_type": "stream",
          "name": "stdout",
          "text": [
            "Loaded 2870 train images\n",
            "Loaded 715  test images\n"
          ]
        }
      ]
    },
    {
      "cell_type": "code",
      "source": [
        "#Visualize class distribution in the TRAIN set\n",
        "from collections import Counter\n",
        "import matplotlib.pyplot as plt\n",
        "\n",
        "train_counts = Counter(train_dataset.targets)\n",
        "classes = train_dataset.classes\n",
        "\n",
        "counts = [train_counts[i] for i in range(len(classes))]\n",
        "\n",
        "plt.figure(figsize=(8,4))\n",
        "plt.bar(classes, counts)\n",
        "plt.xlabel(\"Emotion Class\")\n",
        "plt.ylabel(\"Number of Images\")\n",
        "plt.title(\"FER2013 10%‐Subset Train Class Distribution\")\n",
        "plt.xticks(rotation=45)\n",
        "plt.tight_layout()\n",
        "plt.show()\n",
        "plt.savefig('FER2013_Class_Distribution.pdf')"
      ],
      "metadata": {
        "colab": {
          "base_uri": "https://localhost:8080/",
          "height": 407
        },
        "id": "MMeTGFwAVQuY",
        "outputId": "c8ba3cd1-1547-461a-b303-77bfe93bca52"
      },
      "execution_count": 10,
      "outputs": [
        {
          "output_type": "display_data",
          "data": {
            "text/plain": [
              "<Figure size 800x400 with 1 Axes>"
            ],
            "image/png": "[encoded data removed]"
          },
          "metadata": {}
        }
      ]
    },
    {
      "cell_type": "code",
      "source": [
        "from torchvision import transforms\n",
        "\n",
        "# For baseline CNN on 48×48:\n",
        "base_transform = transforms.Compose([\n",
        "    transforms.Grayscale(num_output_channels=1),  # ensure single-channel\n",
        "    transforms.ToTensor(),                       # [0,255]→[0.0,1.0]\n",
        "])\n",
        "\n",
        "# For transfer learning\n",
        "tl_transform = transforms.Compose([\n",
        "    transforms.Grayscale(num_output_channels=3),  # replicate into 3 channels\n",
        "    transforms.Resize((224,224)),\n",
        "    transforms.ToTensor(),\n",
        "    transforms.Normalize(mean=[0.485,0.456,0.406],\n",
        "                         std =[0.229,0.224,0.225]),\n",
        "])"
      ],
      "metadata": {
        "id": "LZ9ooJabVSzM"
      },
      "execution_count": 11,
      "outputs": []
    },
    {
      "cell_type": "code",
      "source": [
        "import torch.nn as nn\n",
        "\n",
        "class BaselineCNN(nn.Module):\n",
        "    def __init__(self, num_classes=7):\n",
        "        super().__init__()\n",
        "        self.features = nn.Sequential(\n",
        "            nn.Conv2d(1, 32, 3, padding=1), nn.ReLU(),\n",
        "            nn.MaxPool2d(2),                # 48→24\n",
        "            nn.Conv2d(32,64,3,padding=1),   nn.ReLU(),\n",
        "            nn.MaxPool2d(2),                # 24→12\n",
        "            nn.Flatten()\n",
        "        )\n",
        "        self.classifier = nn.Sequential(\n",
        "            nn.Linear(64*12*12, 128), nn.ReLU(), nn.Dropout(0.5),\n",
        "            nn.Linear(128, num_classes)\n",
        "        )\n",
        "\n",
        "    def forward(self, x):\n",
        "        x = self.features(x)\n",
        "        return self.classifier(x)"
      ],
      "metadata": {
        "id": "B2w5FS4XVhhL"
      },
      "execution_count": 12,
      "outputs": []
    },
    {
      "cell_type": "code",
      "source": [
        "import torch\n",
        "from torch.optim import Adam\n",
        "from sklearn.metrics import classification_report\n",
        "\n",
        "device = torch.device('cuda' if torch.cuda.is_available() else 'cpu')\n",
        "model  = BaselineCNN(num_classes=7).to(device)\n",
        "opt    = Adam(model.parameters(), lr=1e-3)\n",
        "loss_fn= nn.CrossEntropyLoss()\n",
        "\n",
        "# train for 20 epochs\n",
        "for epoch in range(20):\n",
        "    model.train()\n",
        "    running_loss = 0\n",
        "    for imgs, labels in train_loader:\n",
        "        imgs, labels = imgs.to(device), labels.to(device)\n",
        "        opt.zero_grad()\n",
        "        logits = model(imgs)\n",
        "        loss   = loss_fn(logits, labels)\n",
        "        loss.backward()\n",
        "        opt.step()\n",
        "        running_loss += loss.item()\n",
        "    print(f\"Epoch {epoch+1} — loss: {running_loss/len(train_loader):.4f}\")\n",
        "\n",
        "# evaluate\n",
        "model.eval()\n",
        "all_preds, all_labels = [], []\n",
        "with torch.no_grad():\n",
        "    for imgs, labels in test_loader:\n",
        "        imgs = imgs.to(device)\n",
        "        preds = model(imgs).argmax(dim=1).cpu()\n",
        "        all_preds.extend(preds.numpy())\n",
        "        all_labels.extend(labels.numpy())\n",
        "\n",
        "print(\"\\nBaseline CNN Classification Report:\")\n",
        "print(classification_report(all_labels, all_preds,\n",
        "      target_names=classes))"
      ],
      "metadata": {
        "colab": {
          "base_uri": "https://localhost:8080/"
        },
        "id": "4g6yZLSzVoxb",
        "outputId": "b3c94723-698b-4fbf-82cc-a1967026d2f4"
      },
      "execution_count": 13,
      "outputs": [
        {
          "output_type": "stream",
          "name": "stdout",
          "text": [
            "Epoch 1 — loss: 1.8392\n",
            "Epoch 2 — loss: 1.7908\n",
            "Epoch 3 — loss: 1.7684\n",
            "Epoch 4 — loss: 1.7444\n",
            "Epoch 5 — loss: 1.6772\n",
            "Epoch 6 — loss: 1.6541\n",
            "Epoch 7 — loss: 1.6229\n",
            "Epoch 8 — loss: 1.6143\n",
            "Epoch 9 — loss: 1.5921\n",
            "Epoch 10 — loss: 1.5549\n",
            "Epoch 11 — loss: 1.5326\n",
            "Epoch 12 — loss: 1.5061\n",
            "Epoch 13 — loss: 1.4860\n",
            "Epoch 14 — loss: 1.4615\n",
            "Epoch 15 — loss: 1.4321\n",
            "Epoch 16 — loss: 1.4047\n",
            "Epoch 17 — loss: 1.3650\n",
            "Epoch 18 — loss: 1.3371\n",
            "Epoch 19 — loss: 1.2846\n",
            "Epoch 20 — loss: 1.2517\n",
            "\n",
            "Baseline CNN Classification Report:\n",
            "              precision    recall  f1-score   support\n",
            "\n",
            "       angry       0.36      0.14      0.20        95\n",
            "     disgust       0.00      0.00      0.00        11\n",
            "        fear       0.18      0.17      0.17       102\n",
            "       happy       0.50      0.67      0.57       177\n",
            "     neutral       0.29      0.29      0.29       123\n",
            "         sad       0.34      0.29      0.31       124\n",
            "    surprise       0.44      0.63      0.52        83\n",
            "\n",
            "    accuracy                           0.38       715\n",
            "   macro avg       0.30      0.31      0.29       715\n",
            "weighted avg       0.36      0.38      0.36       715\n",
            "\n"
          ]
        },
        {
          "output_type": "stream",
          "name": "stderr",
          "text": [
            "/usr/local/lib/python3.11/dist-packages/sklearn/metrics/_classification.py:1565: UndefinedMetricWarning: Precision is ill-defined and being set to 0.0 in labels with no predicted samples. Use `zero_division` parameter to control this behavior.\n",
            "  _warn_prf(average, modifier, f\"{metric.capitalize()} is\", len(result))\n",
            "/usr/local/lib/python3.11/dist-packages/sklearn/metrics/_classification.py:1565: UndefinedMetricWarning: Precision is ill-defined and being set to 0.0 in labels with no predicted samples. Use `zero_division` parameter to control this behavior.\n",
            "  _warn_prf(average, modifier, f\"{metric.capitalize()} is\", len(result))\n",
            "/usr/local/lib/python3.11/dist-packages/sklearn/metrics/_classification.py:1565: UndefinedMetricWarning: Precision is ill-defined and being set to 0.0 in labels with no predicted samples. Use `zero_division` parameter to control this behavior.\n",
            "  _warn_prf(average, modifier, f\"{metric.capitalize()} is\", len(result))\n"
          ]
        }
      ]
    },
    {
      "cell_type": "markdown",
      "source": [
        "\n",
        "\n",
        "```\n",
        "Next Steps\n",
        "\n",
        "Transfer Learning\n",
        "Fine-tuning a pretrained network (e.g. ResNet50, MobileNetV2) should give a stronger feature extractor out of the box.\n",
        "Address Class Imbalance\n",
        "Oversample small classes or generate synthetic examples (e.g. via augmentation).\n",
        "Use a class-weighted loss or focal loss to penalize mistakes on rare classes more heavily.\n",
        "Data Augmentation\n",
        "Experiment with deeper or wider CNNs if compute allows.\n",
        "```\n",
        "\n"
      ],
      "metadata": {
        "id": "UlwvsZXW1hvo"
      }
    }
  ],
  "metadata": {
    "accelerator": "GPU",
    "colab": {
      "gpuType": "T4",
      "provenance": [],
      "mount_file_id": "18Dj5_SKht8I4Ryn9fZpYZyg5VoyTFiOE",
      "authorship_tag": "ABX9TyO4IsVrClVtijRAyMSOQz+p",
      "include_colab_link": true
    },
    "kernelspec": {
      "display_name": "Python 3",
      "name": "python3"
    },
    "language_info": {
      "name": "python"
    }
  },
  "nbformat": 4,
  "nbformat_minor": 0
}